{
 "cells": [
  {
   "cell_type": "markdown",
   "metadata": {},
   "source": [
    "## Capstone Webscrapping using BeautifulSoup\n",
    "\n",
    "This notebook contains guidances & tasks on the data processing for the application\n",
    "\n",
    "## background\n",
    "\n",
    "Latar belakang pemilihan penggunaan BeautifulSoup dalam webscrapping data kurs USD ke Rupiah adalah BeautifulSoup merupakan sebuah library yang cukup sederhana untuk digunakan dalamm proses webscrapping dan data kurs USD ke Rupiah merupakan data yang cukup penting untuk digunakan dalam pekerjaan sehari-hari\n",
    "\n",
    "## Requesting the Data and Creating a BeautifulSoup\n",
    "\n",
    "Let's begin with requesting the web from the site with `get` method."
   ]
  },
  {
   "cell_type": "code",
   "execution_count": 11,
   "metadata": {
    "scrolled": false
   },
   "outputs": [
    {
     "name": "stdout",
     "output_type": "stream",
     "text": [
      "Requirement already satisfied: beautifulsoup4==4.9.3 in c:\\users\\tt39511x\\anaconda3\\lib\\site-packages (from -r requirements.txt (line 1)) (4.9.3)\n",
      "Requirement already satisfied: Flask==2.0.1 in c:\\users\\tt39511x\\anaconda3\\lib\\site-packages (from -r requirements.txt (line 2)) (2.0.1)\n",
      "Requirement already satisfied: Jinja2==3.0.1 in c:\\users\\tt39511x\\anaconda3\\lib\\site-packages (from -r requirements.txt (line 3)) (3.0.1)\n",
      "Requirement already satisfied: Werkzeug==2.0.1 in c:\\users\\tt39511x\\anaconda3\\lib\\site-packages (from -r requirements.txt (line 4)) (2.0.1)\n",
      "Requirement already satisfied: pandas==1.2.4 in c:\\users\\tt39511x\\anaconda3\\lib\\site-packages (from -r requirements.txt (line 5)) (1.2.4)\n",
      "Requirement already satisfied: soupsieve>1.2 in c:\\users\\tt39511x\\anaconda3\\lib\\site-packages (from beautifulsoup4==4.9.3->-r requirements.txt (line 1)) (2.2.1)\n",
      "Requirement already satisfied: click>=7.1.2 in c:\\users\\tt39511x\\anaconda3\\lib\\site-packages (from Flask==2.0.1->-r requirements.txt (line 2)) (7.1.2)\n",
      "Requirement already satisfied: itsdangerous>=2.0 in c:\\users\\tt39511x\\anaconda3\\lib\\site-packages (from Flask==2.0.1->-r requirements.txt (line 2)) (2.0.1)\n",
      "Requirement already satisfied: MarkupSafe>=2.0 in c:\\users\\tt39511x\\anaconda3\\lib\\site-packages (from Jinja2==3.0.1->-r requirements.txt (line 3)) (2.0.1)\n",
      "Requirement already satisfied: pytz>=2017.3 in c:\\users\\tt39511x\\anaconda3\\lib\\site-packages (from pandas==1.2.4->-r requirements.txt (line 5)) (2021.1)\n",
      "Requirement already satisfied: python-dateutil>=2.7.3 in c:\\users\\tt39511x\\anaconda3\\lib\\site-packages (from pandas==1.2.4->-r requirements.txt (line 5)) (2.8.1)\n",
      "Requirement already satisfied: numpy>=1.16.5 in c:\\users\\tt39511x\\anaconda3\\lib\\site-packages (from pandas==1.2.4->-r requirements.txt (line 5)) (1.20.1)\n",
      "Requirement already satisfied: six>=1.5 in c:\\users\\tt39511x\\anaconda3\\lib\\site-packages (from python-dateutil>=2.7.3->pandas==1.2.4->-r requirements.txt (line 5)) (1.15.0)\n",
      "Note: you may need to restart the kernel to use updated packages.\n"
     ]
    }
   ],
   "source": [
    "pip install -r requirements.txt"
   ]
  },
  {
   "cell_type": "markdown",
   "metadata": {},
   "source": [
    "Tidak bisanya diinstall _speedups.cp38-win_amd64.pyd terkait dengan security yang ditetapkan pada laptop kantor yang digunakan"
   ]
  },
  {
   "cell_type": "code",
   "execution_count": 2,
   "metadata": {
    "ExecuteTime": {
     "end_time": "2020-01-13T05:12:23.275508Z",
     "start_time": "2020-01-13T05:12:20.009898Z"
    }
   },
   "outputs": [],
   "source": [
    "import requests\n",
    "\n",
    "url_get = requests.get('https://www.exchange-rates.org/history/IDR/USD/T')"
   ]
  },
  {
   "cell_type": "markdown",
   "metadata": {},
   "source": [
    "To visualize what exactly you get from the `request.get`, we can use .content to see what we exactly get, in here i slice it so it won't make our screen full of the html we get from the page. You can delete the slicing if you want to see what we fully get."
   ]
  },
  {
   "cell_type": "code",
   "execution_count": 3,
   "metadata": {
    "ExecuteTime": {
     "end_time": "2020-01-13T05:12:23.290648Z",
     "start_time": "2020-01-13T05:12:23.277650Z"
    }
   },
   "outputs": [
    {
     "data": {
      "text/plain": [
       "b'!DOCTYPE html>\\r\\n<!--[if lt IE 9]>\\r\\n<html class=\"no-js ie8 oldie\" lang=\"en\" xml:lang=\\'en\\'>\\r\\n<![endif]-->\\r\\n<!--[if gt IE 8]><!--><html class=\"no-js\" lang=\"en\" xml:lang=\\'en\\'><!--<![endif]-->\\r\\n<head>\\r\\n<title>Indonesian Rupiah Exchange Rate - US Dollar - Historical Exchange Rates</title>\\r\\n<meta http-equiv=\"X-UA-Compatible\" content=\"IE=edge\">\\r\\n<meta name=\"viewport\" content=\"width=device-width, initial-scale=1, maximum-scale=5\">\\r\\n<meta charset=\"utf-8\" /><meta http-equiv=\"Content-Type\" content=\"text/ht'"
      ]
     },
     "execution_count": 3,
     "metadata": {},
     "output_type": "execute_result"
    }
   ],
   "source": [
    "url_get.content[1:500]"
   ]
  },
  {
   "cell_type": "markdown",
   "metadata": {},
   "source": [
    "As we can see we get a very unstructured and complex html, which actually contains the codes needed to show the webpages on your web browser. But we as human still confused what and where we can use that piece of code, so here where we use the beautifulsoup. Beautiful soup class will result a beautifulsoup object. Beautiful Soup transforms a complex HTML document into a complex tree of Python objects. \n",
    "\n",
    "Let's make Beautiful soup object and feel free to explore the object here."
   ]
  },
  {
   "cell_type": "code",
   "execution_count": 4,
   "metadata": {
    "ExecuteTime": {
     "end_time": "2020-01-13T05:12:23.808122Z",
     "start_time": "2020-01-13T05:12:23.292610Z"
    }
   },
   "outputs": [],
   "source": [
    "from bs4 import BeautifulSoup\n",
    "web_address = \"https://www.exchange-rates.org/history/IDR/USD/T\"\n",
    "web_content = requests.get(web_address).text\n",
    "web_content_soup = BeautifulSoup(web_content, \"html.parser\")\n",
    "div_table_responsive = web_content_soup.find('div', 'table-responsive')\n",
    "List_of_USDIDR = []\n",
    "table = div_table_responsive.find('table', \n",
    "        attrs={'class': 'table table-striped table-hover table-hover-solid-row table-simple history-data'})\n",
    "\n"
   ]
  },
  {
   "cell_type": "markdown",
   "metadata": {},
   "source": [
    "## Finding the right key to scrap the data & Extracting the right information"
   ]
  },
  {
   "cell_type": "markdown",
   "metadata": {},
   "source": [
    "Find the key and put the key into the `.find()` Put all the exploring the right key at this cell. (please change this markdown with your explanation)"
   ]
  },
  {
   "cell_type": "code",
   "execution_count": 5,
   "metadata": {
    "ExecuteTime": {
     "end_time": "2020-01-13T05:12:23.878904Z",
     "start_time": "2020-01-13T05:12:23.854974Z"
    }
   },
   "outputs": [
    {
     "name": "stdout",
     "output_type": "stream",
     "text": [
      "tbody>\n",
      " <tr>\n",
      "  <td>\n",
      "   10/25/2021\n",
      "  </td>\n",
      "  <td>\n",
      "   Monday\n",
      "  </td>\n",
      "  <td>\n",
      "   <a href=\"/Rate/USD/IDR/10-25-2021\">\n",
      "    14,152.60477\n",
      "   </a>\n",
      "   IDR\n",
      "  </td>\n",
      "  <td class=\"text-narrow-screen-hidden\">\n",
      "   <a href=\"/Rate/USD/IDR/10-25-2021\">\n",
      "    USD IDR rate for 10/25/2021\n",
      "   </a>\n",
      "  </td>\n",
      " </tr>\n",
      " <tr>\n",
      "  <td>\n",
      "   10/22/2021\n",
      "  </td>\n",
      "  <td>\n",
      "   Friday\n",
      "  </td>\n",
      "  <td>\n",
      "   <a href=\"/Rate/USD/IDR/10-22-2021\">\n",
      "    14,110.21079\n",
      "   </a>\n",
      "   IDR\n",
      "  </td>\n",
      "  <td class=\"text-narrow-screen-hidden\">\n",
      "   <a href=\"/Rate/USD/ID\n"
     ]
    }
   ],
   "source": [
    "table = web_content_soup.find('table',attrs={'class': 'table table-striped table-hover table-hover-solid-row table-simple history-data'})\n",
    "\n",
    "table_body = table.find('tbody')\n",
    "\n",
    "print(table_body.prettify()[1:500])"
   ]
  },
  {
   "cell_type": "markdown",
   "metadata": {},
   "source": [
    "Finding row length."
   ]
  },
  {
   "cell_type": "code",
   "execution_count": 6,
   "metadata": {},
   "outputs": [
    {
     "name": "stdout",
     "output_type": "stream",
     "text": [
      "129\n"
     ]
    }
   ],
   "source": [
    "tablerows = table.find_all('tr')\n",
    "row_length = len(tablerows)\n",
    "print(row_length)"
   ]
  },
  {
   "cell_type": "markdown",
   "metadata": {},
   "source": [
    "Do the scrapping process here (please change this markdown with your explanation)\n",
    "\n",
    "Melakukan pengulangan untuk setiap baris agar dapat memperoleh nilai dari masing-masing kolom"
   ]
  },
  {
   "cell_type": "code",
   "execution_count": 7,
   "metadata": {
    "ExecuteTime": {
     "end_time": "2020-01-13T05:12:24.008256Z",
     "start_time": "2020-01-13T05:12:23.980358Z"
    }
   },
   "outputs": [
    {
     "data": {
      "text/plain": [
       "[('10/25/2021', '14152.60477'),\n",
       " ('10/22/2021', '14110.21079'),\n",
       " ('10/21/2021', '14121.60389'),\n",
       " ('10/20/2021', '14079.51380'),\n",
       " ('10/19/2021', '14075.46229'),\n",
       " ('10/18/2021', '14056.43762'),\n",
       " ('10/15/2021', '14070.19147'),\n",
       " ('10/14/2021', '14105.27223'),\n",
       " ('10/13/2021', '14204.85164'),\n",
       " ('10/12/2021', '14214.84450'),\n",
       " ('10/11/2021', '14220.90165'),\n",
       " ('10/8/2021', '14217.98083'),\n",
       " ('10/7/2021', '14248.99612'),\n",
       " ('10/6/2021', '14245.00000'),\n",
       " ('10/5/2021', '14260.00000'),\n",
       " ('10/4/2021', '14262.54265'),\n",
       " ('10/1/2021', '14293.86378'),\n",
       " ('9/30/2021', '14298.48079'),\n",
       " ('9/29/2021', '14367.73186'),\n",
       " ('9/28/2021', '14271.16497'),\n",
       " ('9/27/2021', '14264.68406'),\n",
       " ('9/24/2021', '14272.18430'),\n",
       " ('9/23/2021', '14242.87856'),\n",
       " ('9/22/2021', '14299.15334'),\n",
       " ('9/21/2021', '14238.62381'),\n",
       " ('9/20/2021', '14235.10302'),\n",
       " ('9/17/2021', '14293.12609'),\n",
       " ('9/16/2021', '14250.19893'),\n",
       " ('9/15/2021', '14235.96566'),\n",
       " ('9/14/2021', '14244.84504'),\n",
       " ('9/13/2021', '14298.65671'),\n",
       " ('9/10/2021', '14226.67070'),\n",
       " ('9/9/2021', '14260.57530'),\n",
       " ('9/8/2021', '14251.89711'),\n",
       " ('9/7/2021', '14249.33912'),\n",
       " ('9/6/2021', '14214.47321'),\n",
       " ('9/3/2021', '14251.87392'),\n",
       " ('9/2/2021', '14248.52165'),\n",
       " ('9/1/2021', '14257.71231'),\n",
       " ('8/31/2021', '14296.13264'),\n",
       " ('8/30/2021', '14367.01609'),\n",
       " ('8/27/2021', '14368.74436'),\n",
       " ('8/26/2021', '14415.01986'),\n",
       " ('8/25/2021', '14386.20000'),\n",
       " ('8/24/2021', '14379.34070'),\n",
       " ('8/23/2021', '14400.21794'),\n",
       " ('8/20/2021', '14460.04574'),\n",
       " ('8/19/2021', '14411.77604'),\n",
       " ('8/18/2021', '14372.20861'),\n",
       " ('8/17/2021', '14439.92418'),\n",
       " ('8/16/2021', '14376.39296'),\n",
       " ('8/13/2021', '14327.19776'),\n",
       " ('8/12/2021', '14387.28127'),\n",
       " ('8/11/2021', '14385.48676'),\n",
       " ('8/10/2021', '14379.25224'),\n",
       " ('8/9/2021', '14363.60538'),\n",
       " ('8/6/2021', '14403.07373'),\n",
       " ('8/5/2021', '14315.95314'),\n",
       " ('8/4/2021', '14313.11092'),\n",
       " ('8/3/2021', '14391.49693'),\n",
       " ('8/2/2021', '14445.82502'),\n",
       " ('7/30/2021', '14501.55250'),\n",
       " ('7/29/2021', '14467.14994'),\n",
       " ('7/28/2021', '14414.21667'),\n",
       " ('7/27/2021', '14468.66842'),\n",
       " ('7/26/2021', '14487.54718'),\n",
       " ('7/23/2021', '14492.63051'),\n",
       " ('7/22/2021', '14508.09177'),\n",
       " ('7/21/2021', '14495.34596'),\n",
       " ('7/20/2021', '14514.10964'),\n",
       " ('7/19/2021', '14490.12260'),\n",
       " ('7/16/2021', '14495.41215'),\n",
       " ('7/15/2021', '14469.95831'),\n",
       " ('7/14/2021', '14404.17703'),\n",
       " ('7/13/2021', '14476.52203'),\n",
       " ('7/12/2021', '14491.59294'),\n",
       " ('7/9/2021', '14499.31330'),\n",
       " ('7/8/2021', '14515.87714'),\n",
       " ('7/7/2021', '14503.93654'),\n",
       " ('7/6/2021', '14469.58258'),\n",
       " ('7/5/2021', '14493.33968'),\n",
       " ('7/2/2021', '14497.65100'),\n",
       " ('7/1/2021', '14500.00000'),\n",
       " ('6/30/2021', '14491.89811'),\n",
       " ('6/29/2021', '14480.00000'),\n",
       " ('6/28/2021', '14439.22236'),\n",
       " ('6/25/2021', '14426.82283'),\n",
       " ('6/24/2021', '14436.21247'),\n",
       " ('6/23/2021', '14440.32729'),\n",
       " ('6/22/2021', '14396.08712'),\n",
       " ('6/21/2021', '14426.42481'),\n",
       " ('6/18/2021', '14440.13691'),\n",
       " ('6/17/2021', '14383.75138'),\n",
       " ('6/16/2021', '14376.12040'),\n",
       " ('6/15/2021', '14205.14512'),\n",
       " ('6/14/2021', '14205.68458'),\n",
       " ('6/11/2021', '14241.97728'),\n",
       " ('6/10/2021', '14262.89225'),\n",
       " ('6/9/2021', '14258.61758'),\n",
       " ('6/8/2021', '14256.29978'),\n",
       " ('6/7/2021', '14222.58206'),\n",
       " ('6/4/2021', '14227.49966'),\n",
       " ('6/3/2021', '14353.54834'),\n",
       " ('6/2/2021', '14276.29774'),\n",
       " ('6/1/2021', '14274.83728'),\n",
       " ('5/31/2021', '14238.06947'),\n",
       " ('5/28/2021', '14283.54665'),\n",
       " ('5/27/2021', '14326.24811'),\n",
       " ('5/26/2021', '14326.06920'),\n",
       " ('5/25/2021', '14310.90309'),\n",
       " ('5/24/2021', '14352.31470'),\n",
       " ('5/21/2021', '14401.13572'),\n",
       " ('5/20/2021', '14362.81181'),\n",
       " ('5/19/2021', '14270.34468'),\n",
       " ('5/18/2021', '14263.79544'),\n",
       " ('5/17/2021', '14113.45630'),\n",
       " ('5/14/2021', '14122.81112'),\n",
       " ('5/13/2021', '14185.45666'),\n",
       " ('5/12/2021', '14198.91195'),\n",
       " ('5/11/2021', '14197.76931'),\n",
       " ('5/10/2021', '14214.65659'),\n",
       " ('5/7/2021', '14278.55213'),\n",
       " ('5/6/2021', '14302.00704'),\n",
       " ('5/5/2021', '14422.43566'),\n",
       " ('5/4/2021', '14424.14155'),\n",
       " ('5/3/2021', '14436.81882'),\n",
       " ('4/30/2021', '14444.45616'),\n",
       " ('4/29/2021', '14487.67389'),\n",
       " ('4/28/2021', '14430.69637')]"
      ]
     },
     "execution_count": 7,
     "metadata": {},
     "output_type": "execute_result"
    }
   ],
   "source": [
    "List_of_USDIDR = [] #initiating a tuple\n",
    "for table_rows in table_body.find_all('tr'):\n",
    "    columns = table_rows.find_all('td')\n",
    "    periode = columns[0].text\n",
    "    fx_rate = columns[2].text.replace(\"IDR\", \"\").replace(\",\", \"\").strip()\n",
    "    \n",
    "    List_of_USDIDR.append((periode,fx_rate))\n",
    "List_of_USDIDR"
   ]
  },
  {
   "cell_type": "markdown",
   "metadata": {},
   "source": [
    "## Creating data frame & Data wrangling"
   ]
  },
  {
   "cell_type": "markdown",
   "metadata": {},
   "source": [
    "Put the array into dataframe"
   ]
  },
  {
   "cell_type": "code",
   "execution_count": 8,
   "metadata": {
    "ExecuteTime": {
     "end_time": "2020-01-13T05:12:41.517372Z",
     "start_time": "2020-01-13T05:12:29.130015Z"
    }
   },
   "outputs": [
    {
     "data": {
      "text/html": [
       "<div>\n",
       "<style scoped>\n",
       "    .dataframe tbody tr th:only-of-type {\n",
       "        vertical-align: middle;\n",
       "    }\n",
       "\n",
       "    .dataframe tbody tr th {\n",
       "        vertical-align: top;\n",
       "    }\n",
       "\n",
       "    .dataframe thead th {\n",
       "        text-align: right;\n",
       "    }\n",
       "</style>\n",
       "<table border=\"1\" class=\"dataframe\">\n",
       "  <thead>\n",
       "    <tr style=\"text-align: right;\">\n",
       "      <th></th>\n",
       "      <th>Periode</th>\n",
       "      <th>USDIDR</th>\n",
       "    </tr>\n",
       "  </thead>\n",
       "  <tbody>\n",
       "    <tr>\n",
       "      <th>0</th>\n",
       "      <td>2021-10-25</td>\n",
       "      <td>14152.60477</td>\n",
       "    </tr>\n",
       "    <tr>\n",
       "      <th>1</th>\n",
       "      <td>2021-10-22</td>\n",
       "      <td>14110.21079</td>\n",
       "    </tr>\n",
       "    <tr>\n",
       "      <th>2</th>\n",
       "      <td>2021-10-21</td>\n",
       "      <td>14121.60389</td>\n",
       "    </tr>\n",
       "    <tr>\n",
       "      <th>3</th>\n",
       "      <td>2021-10-20</td>\n",
       "      <td>14079.51380</td>\n",
       "    </tr>\n",
       "    <tr>\n",
       "      <th>4</th>\n",
       "      <td>2021-10-19</td>\n",
       "      <td>14075.46229</td>\n",
       "    </tr>\n",
       "  </tbody>\n",
       "</table>\n",
       "</div>"
      ],
      "text/plain": [
       "     Periode       USDIDR\n",
       "0 2021-10-25  14152.60477\n",
       "1 2021-10-22  14110.21079\n",
       "2 2021-10-21  14121.60389\n",
       "3 2021-10-20  14079.51380\n",
       "4 2021-10-19  14075.46229"
      ]
     },
     "execution_count": 8,
     "metadata": {},
     "output_type": "execute_result"
    }
   ],
   "source": [
    "import pandas as pd\n",
    "\n",
    "df_USDIDR = pd.DataFrame(List_of_USDIDR, columns = ('Periode','USDIDR'))#, 'description'))\n",
    "df_USDIDR['Periode'] = df_USDIDR['Periode'].astype('datetime64')\n",
    "df_USDIDR['USDIDR'] = df_USDIDR['USDIDR'].astype('float64')\n",
    "df_USDIDR.head()\n"
   ]
  },
  {
   "cell_type": "markdown",
   "metadata": {},
   "source": [
    "Dari data terlihat bahwa data yang dibuat sudah baik\n",
    "sehingga hanya dilakukan set index untuk menentukan periode sebagai index data"
   ]
  },
  {
   "cell_type": "code",
   "execution_count": 9,
   "metadata": {
    "ExecuteTime": {
     "end_time": "2020-01-13T05:12:59.165559Z",
     "start_time": "2020-01-13T05:12:58.910012Z"
    }
   },
   "outputs": [
    {
     "data": {
      "text/html": [
       "<div>\n",
       "<style scoped>\n",
       "    .dataframe tbody tr th:only-of-type {\n",
       "        vertical-align: middle;\n",
       "    }\n",
       "\n",
       "    .dataframe tbody tr th {\n",
       "        vertical-align: top;\n",
       "    }\n",
       "\n",
       "    .dataframe thead th {\n",
       "        text-align: right;\n",
       "    }\n",
       "</style>\n",
       "<table border=\"1\" class=\"dataframe\">\n",
       "  <thead>\n",
       "    <tr style=\"text-align: right;\">\n",
       "      <th></th>\n",
       "      <th>USDIDR</th>\n",
       "    </tr>\n",
       "    <tr>\n",
       "      <th>Periode</th>\n",
       "      <th></th>\n",
       "    </tr>\n",
       "  </thead>\n",
       "  <tbody>\n",
       "    <tr>\n",
       "      <th>2021-10-25</th>\n",
       "      <td>14152.60477</td>\n",
       "    </tr>\n",
       "    <tr>\n",
       "      <th>2021-10-22</th>\n",
       "      <td>14110.21079</td>\n",
       "    </tr>\n",
       "    <tr>\n",
       "      <th>2021-10-21</th>\n",
       "      <td>14121.60389</td>\n",
       "    </tr>\n",
       "    <tr>\n",
       "      <th>2021-10-20</th>\n",
       "      <td>14079.51380</td>\n",
       "    </tr>\n",
       "    <tr>\n",
       "      <th>2021-10-19</th>\n",
       "      <td>14075.46229</td>\n",
       "    </tr>\n",
       "  </tbody>\n",
       "</table>\n",
       "</div>"
      ],
      "text/plain": [
       "                 USDIDR\n",
       "Periode                \n",
       "2021-10-25  14152.60477\n",
       "2021-10-22  14110.21079\n",
       "2021-10-21  14121.60389\n",
       "2021-10-20  14079.51380\n",
       "2021-10-19  14075.46229"
      ]
     },
     "execution_count": 9,
     "metadata": {},
     "output_type": "execute_result"
    }
   ],
   "source": [
    "df_USDIDR = df_USDIDR.set_index('Periode')\n",
    "df_USDIDR.head()"
   ]
  },
  {
   "cell_type": "markdown",
   "metadata": {},
   "source": [
    "Dari data yang terbentuk yang dapat diklasifikasikan secara kronologis (data deret berkala / time series), sehingga ditentukan diagram baris (plot) adalah diagram yang paling cocok untuk menjelaskan data tersebut"
   ]
  },
  {
   "cell_type": "code",
   "execution_count": 10,
   "metadata": {},
   "outputs": [
    {
     "data": {
      "text/plain": [
       "<AxesSubplot:xlabel='Periode'>"
      ]
     },
     "execution_count": 10,
     "metadata": {},
     "output_type": "execute_result"
    },
    {
     "data": {
      "image/png": "[encoded data removed]",
      "text/plain": [
       "<Figure size 432x288 with 1 Axes>"
      ]
     },
     "metadata": {
      "needs_background": "light"
     },
     "output_type": "display_data"
    }
   ],
   "source": [
    "df_USDIDR['USDIDR'].plot()"
   ]
  },
  {
   "cell_type": "markdown",
   "metadata": {},
   "source": [
    "### Implementing your webscrapping to the flask dashboard\n",
    "\n",
    "- Copy paste all of your web scrapping process to the desired position on the `app.py`\n",
    "- Changing the title of the dasboard at `index.html`"
   ]
  },
  {
   "cell_type": "markdown",
   "metadata": {},
   "source": [
    "## Finishing This Notebook with Your Analysis and Conclusion\n",
    "\n",
    "First you can do start with making the data visualisation. "
   ]
  },
  {
   "cell_type": "code",
   "execution_count": 15,
   "metadata": {
    "ExecuteTime": {
     "end_time": "2020-01-13T05:20:56.208237Z",
     "start_time": "2020-01-13T05:20:56.076043Z"
    }
   },
   "outputs": [
    {
     "data": {
      "text/plain": [
       "<AxesSubplot:xlabel='Periode'>"
      ]
     },
     "execution_count": 15,
     "metadata": {},
     "output_type": "execute_result"
    },
    {
     "data": {
      "image/png": "[encoded data removed]",
      "text/plain": [
       "<Figure size 432x288 with 1 Axes>"
      ]
     },
     "metadata": {
      "needs_background": "light"
     },
     "output_type": "display_data"
    }
   ],
   "source": [
    "df_USDIDR['USDIDR'].plot()"
   ]
  },
  {
   "cell_type": "markdown",
   "metadata": {},
   "source": [
    "- Penurunan harga dollar yang paling drastis terdapat pada periode awal bulan Mei 2021 sampai pertengahan Mei 2021\n",
    "- Kenaikan harga dollar yang paling drastis terdapat pada periode pertengahan Mei 2021 sampai akhir Mei 2021 dan pertengahan Juni 2021 hingga Akhir Juni 2021\n",
    "- Periode harga dollar yang cenderung stabil di kisaran 14400-14500 berada pada pertengahan Juni 2021 sampai awal Agustus 2021\n",
    "-  Pada rentang waktu awal Agustus 2021 hingga akhir Agustus 2021, rentang kestabilan harga dollar menurun dan berada di kisaran 14300-14450\n",
    "- Pada rentang waktu awal September 2021 hingga awal Oktober 2021, rentang kestabilan harga dollar kembali menurun dan berada di kisaran 14200-14300\n",
    "- Harga terendah dollar berada pada pertengahan Mei 2021 dan pertengahan Oktober 2021\n",
    "\n",
    "\n"
   ]
  },
  {
   "cell_type": "markdown",
   "metadata": {},
   "source": [
    "### Extra Challange\n",
    "\n",
    "This will be not included to the scoring. \n",
    "\n",
    "- You can create additional analysis from the data.\n",
    "- Implement it to the dashboard with at `app.py` dan `index.html`."
   ]
  }
 ],
 "metadata": {
  "kernelspec": {
   "display_name": "phoenix_da",
   "language": "python",
   "name": "phoenix_da"
  },
  "language_info": {
   "codemirror_mode": {
    "name": "ipython",
    "version": 3
   },
   "file_extension": ".py",
   "mimetype": "text/x-python",
   "name": "python",
   "nbconvert_exporter": "python",
   "pygments_lexer": "ipython3",
   "version": "3.8.8"
  }
 },
 "nbformat": 4,
 "nbformat_minor": 2
}
